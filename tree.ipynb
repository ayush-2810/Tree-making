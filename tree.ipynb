{
 "cells": [
  {
   "cell_type": "code",
   "execution_count": 1,
   "metadata": {},
   "outputs": [],
   "source": [
    "import turtle   #Importing turtle module.\n",
    "\n",
    "def tree(branchLen,t):   #Function for tree making.\n",
    "    if branchLen<=10:\n",
    "        t.color('green')\n",
    "    if branchLen > 5:  #Base condition\n",
    "        t.color('brown')\n",
    "        t.forward(branchLen)   #Making branch to move forward.\n",
    "        t.right(20)   #Changing direction of cursor.\n",
    "        tree(branchLen-10,t)   #Recursive calling of the function for making branch.\n",
    "        t.left(40)\n",
    "        tree(branchLen-10,t)\n",
    "        t.right(20)\n",
    "        t.backward(branchLen)\n",
    "\n",
    "t = turtle.Turtle()   #Making of the screen.\n",
    "myTree = turtle.Screen()\n",
    "t.pensize(3)   #Size/width of the tree\n",
    "myTree.bgcolor('black')   #Setting backgorund color of screen.\n",
    "t.left(90)   #Changing the direction of the cursor.\n",
    "t.up()\n",
    "t.backward(100)\n",
    "t.down()\n",
    "t.color(\"brown\")   #Color of tree.\n",
    "tree(80,t)   #Calling function.\n",
    "myTree.exitonclick()   #Exiting from the screen.\n"
   ]
  }
 ],
 "metadata": {
  "kernelspec": {
   "display_name": "Python 3",
   "language": "python",
   "name": "python3"
  },
  "language_info": {
   "codemirror_mode": {
    "name": "ipython",
    "version": 3
   },
   "file_extension": ".py",
   "mimetype": "text/x-python",
   "name": "python",
   "nbconvert_exporter": "python",
   "pygments_lexer": "ipython3",
   "version": "3.7.0"
  }
 },
 "nbformat": 4,
 "nbformat_minor": 2
}
